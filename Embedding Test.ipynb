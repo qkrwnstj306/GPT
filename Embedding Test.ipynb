{
 "cells": [
  {
   "cell_type": "code",
   "execution_count": 3,
   "id": "dac1c43d-ffe6-43d1-811d-ea1c977aaecc",
   "metadata": {},
   "outputs": [],
   "source": [
    "import torch\n",
    "import torch.nn as nn"
   ]
  },
  {
   "cell_type": "code",
   "execution_count": 23,
   "id": "b38d99cf-df35-4f7f-82e4-4fb27bf8cc80",
   "metadata": {},
   "outputs": [
    {
     "name": "stdout",
     "output_type": "stream",
     "text": [
      "tensor([[9, 2, 8, 3, 1, 6, 7, 5, 5, 9],\n",
      "        [2, 5, 5, 0, 7, 0, 0, 2, 8, 8],\n",
      "        [6, 1, 4, 3, 6, 2, 4, 1, 8, 1],\n",
      "        [9, 8, 4, 3, 2, 4, 3, 4, 1, 0],\n",
      "        [1, 9, 2, 7, 2, 0, 6, 4, 7, 3],\n",
      "        [9, 8, 9, 6, 9, 0, 7, 0, 9, 0],\n",
      "        [2, 5, 7, 6, 0, 7, 3, 5, 3, 7],\n",
      "        [7, 5, 6, 3, 6, 9, 6, 6, 3, 9],\n",
      "        [6, 0, 7, 1, 0, 6, 8, 5, 8, 5],\n",
      "        [7, 6, 8, 7, 1, 7, 8, 5, 9, 0],\n",
      "        [1, 0, 3, 9, 5, 0, 0, 5, 0, 5],\n",
      "        [2, 5, 1, 1, 7, 9, 3, 4, 5, 0],\n",
      "        [6, 2, 8, 8, 1, 0, 1, 5, 5, 3],\n",
      "        [0, 6, 8, 3, 9, 3, 7, 4, 7, 4],\n",
      "        [5, 9, 2, 8, 7, 8, 7, 3, 2, 6],\n",
      "        [5, 2, 0, 4, 8, 1, 7, 1, 2, 2],\n",
      "        [3, 1, 7, 8, 9, 2, 0, 9, 1, 8],\n",
      "        [8, 0, 4, 4, 2, 2, 0, 8, 2, 7],\n",
      "        [2, 7, 6, 9, 7, 5, 0, 2, 7, 5],\n",
      "        [6, 7, 9, 5, 5, 3, 1, 6, 7, 5],\n",
      "        [6, 1, 9, 7, 4, 0, 1, 3, 5, 6],\n",
      "        [5, 8, 6, 8, 6, 6, 4, 7, 3, 5],\n",
      "        [3, 9, 5, 8, 2, 4, 9, 6, 5, 4],\n",
      "        [5, 0, 1, 4, 1, 8, 4, 2, 2, 0],\n",
      "        [5, 9, 5, 2, 3, 4, 0, 9, 4, 7],\n",
      "        [1, 4, 8, 1, 2, 6, 6, 5, 7, 3],\n",
      "        [2, 2, 1, 7, 3, 6, 3, 2, 8, 2],\n",
      "        [6, 6, 6, 7, 8, 9, 8, 0, 4, 5],\n",
      "        [4, 5, 5, 2, 2, 3, 5, 2, 3, 0],\n",
      "        [3, 1, 5, 0, 7, 3, 5, 6, 6, 1],\n",
      "        [1, 7, 4, 8, 7, 0, 5, 8, 1, 4],\n",
      "        [0, 5, 7, 9, 5, 1, 1, 6, 6, 2]])\n"
     ]
    }
   ],
   "source": [
    "#embedding layer의 first input은 embedding vector를 생성할 전체 범주의 개수이다. \n",
    "#즉, 여기서는 vocab_size\n",
    "embedding = nn.Embedding(10,3)\n",
    "\n",
    "vocab_size = 10\n",
    "seq_len = 5\n",
    "#먼저, vocab size를 input으로\n",
    "#input (bs, vocab_size)\n",
    "inputs = torch.randint(0,vocab_size,(32, vocab_size))\n",
    "print(inputs)"
   ]
  },
  {
   "cell_type": "code",
   "execution_count": 24,
   "id": "39821c02-f455-4b18-9599-fcefc9065269",
   "metadata": {},
   "outputs": [
    {
     "name": "stdout",
     "output_type": "stream",
     "text": [
      "torch.Size([32, 10, 3])\n"
     ]
    }
   ],
   "source": [
    "outputs = embedding(inputs)\n",
    "print(outputs.size())"
   ]
  },
  {
   "cell_type": "code",
   "execution_count": 25,
   "id": "d11b54b5-c012-46e4-a625-fcf38db4abc6",
   "metadata": {},
   "outputs": [],
   "source": [
    "#특정 sentence의 seq_len를 input으로\n",
    "#input (bs, seq_len)\n",
    "inputs = torch.randint(0,seq_len,(32, seq_len))"
   ]
  },
  {
   "cell_type": "code",
   "execution_count": 27,
   "id": "ef5b2c0e-af37-4ba6-9982-f20448436220",
   "metadata": {},
   "outputs": [
    {
     "name": "stdout",
     "output_type": "stream",
     "text": [
      "torch.Size([32, 5, 3])\n"
     ]
    }
   ],
   "source": [
    "#Embedding layer는 lookup table로 학습 가능한 파라미터를 선언하면서 forward를 진행한다.\n",
    "#따라서 input의 seq_len가 매번 달라도 상관이 없다. \n",
    "outputs = embedding(inputs)\n",
    "print(outputs.size())"
   ]
  }
 ],
 "metadata": {
  "kernelspec": {
   "display_name": "Python 3",
   "language": "python",
   "name": "python3"
  },
  "language_info": {
   "codemirror_mode": {
    "name": "ipython",
    "version": 3
   },
   "file_extension": ".py",
   "mimetype": "text/x-python",
   "name": "python",
   "nbconvert_exporter": "python",
   "pygments_lexer": "ipython3",
   "version": "3.9.1"
  }
 },
 "nbformat": 4,
 "nbformat_minor": 5
}
